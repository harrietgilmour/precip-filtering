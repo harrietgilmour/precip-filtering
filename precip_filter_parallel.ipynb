{
 "cells": [
  {
   "cell_type": "code",
   "execution_count": null,
   "metadata": {},
   "outputs": [],
   "source": [
    "# Import local packages\n",
    "import os\n",
    "import sys\n",
    "import glob\n",
    "\n",
    "# Third party packages\n",
    "import iris\n",
    "import numpy as np\n",
    "import pandas as pd\n",
    "import matplotlib.pyplot as plt\n",
    "import iris.quickplot as qplt\n",
    "import iris.plot as iplt\n",
    "import datetime\n",
    "import shutil\n",
    "from six.moves import urllib\n",
    "from pathlib import Path\n",
    "import trackpy\n",
    "from iris.time import PartialDateTime\n",
    "import functions\n",
    "import cartopy.crs as ccrs\n",
    "import xarray as xr\n",
    "import netCDF4 as nc\n",
    "import scipy\n",
    "from scipy import ndimage\n",
    "from scipy.ndimage import label, generate_binary_structure\n",
    "import tobac #tobac package cloned from https://github.com/tobac-project/tobac.git\n"
   ]
  },
  {
   "cell_type": "code",
   "execution_count": null,
   "metadata": {},
   "outputs": [],
   "source": [
    "# Import and set up warnings\n",
    "import warnings\n",
    "warnings.filterwarnings('ignore', category=UserWarning, append=True)\n",
    "warnings.filterwarnings('ignore', category=RuntimeWarning, append=True)\n",
    "warnings.filterwarnings('ignore', category=FutureWarning, append=True)\n",
    "warnings.filterwarnings('ignore', category=pd.io.pytables.PerformanceWarning)\n",
    "warnings.filterwarnings('ignore')"
   ]
  }
 ],
 "metadata": {
  "language_info": {
   "name": "python"
  },
  "orig_nbformat": 4
 },
 "nbformat": 4,
 "nbformat_minor": 2
}
